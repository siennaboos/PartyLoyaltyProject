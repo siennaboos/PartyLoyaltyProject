{
 "cells": [
  {
   "cell_type": "code",
   "execution_count": 3,
   "id": "9a9a05cd",
   "metadata": {},
   "outputs": [],
   "source": [
    "import numpy as np\n",
    "import pandas as pd\n",
    "import matplotlib.pyplot as plt\n",
    "import seaborn as sns\n",
    "from sklearn.model_selection import train_test_split\n",
    "from sklearn.metrics import r2_score\n",
    "import statsmodels.api as sm"
   ]
  },
  {
   "cell_type": "code",
   "execution_count": 3,
   "id": "488e8703",
   "metadata": {},
   "outputs": [
    {
     "data": {
      "text/plain": [
       "\"df = pd.read_csv('mep_votes_json_final.csv', header=1)\\ndf.head()\""
      ]
     },
     "execution_count": 3,
     "metadata": {},
     "output_type": "execute_result"
    }
   ],
   "source": [
    "\"\"\"df = pd.read_csv('mep_votes_json_final.csv', header=1)\n",
    "df.head()\"\"\""
   ]
  },
  {
   "cell_type": "code",
   "execution_count": 4,
   "id": "b5545ea0",
   "metadata": {},
   "outputs": [
    {
     "data": {
      "text/plain": [
       "\"filtered_df = df[['mep_id', 'Position', 'Party', 'Time_stamp', 'vote_id', 'Procedure_type']]\\nfiltered_df.rename(columns={'Position': 'position', 'Party' : 'party', 'Time_stamp' : 'timestamp', 'Procedure_type' : 'procedure_type'}, inplace=True)\\nfiltered_df.head()\""
      ]
     },
     "execution_count": 4,
     "metadata": {},
     "output_type": "execute_result"
    }
   ],
   "source": [
    "\"\"\"filtered_df = df[['mep_id', 'Position', 'Party', 'Time_stamp', 'vote_id', 'Procedure_type']]\n",
    "filtered_df.rename(columns={'Position': 'position', 'Party' : 'party', 'Time_stamp' : 'timestamp', 'Procedure_type' : 'procedure_type'}, inplace=True)\n",
    "filtered_df.head()\"\"\""
   ]
  },
  {
   "cell_type": "markdown",
   "id": "ec1b0a85",
   "metadata": {},
   "source": [
    "### We are trying to make another dataframe where each row represents a party's aggregate stats on a particular vote id.\n",
    "\n",
    "We will have the columns: party, vote_id, timestamp, num_for, num_against, num_abstention, num_no_votes, total_votes (does not include no votes), majority_col (string: for, against, or abstain (or no_votes)), majority_votes (number of votes for that party that AGREE w the majority), percent_dissent (percent of for, against, and abstain votes that agree with the MAJORITY)\n",
    "\n",
    "We have to drop rows where the majority_col is no_votes before calculating percent dissenters"
   ]
  },
  {
   "cell_type": "code",
   "execution_count": 5,
   "id": "862a889b",
   "metadata": {},
   "outputs": [
    {
     "data": {
      "text/plain": [
       "'# filter only relevant vote positions\\nvalid_positions = [\\'FOR\\', \\'AGAINST\\', \\'ABSTENTION\\', \\'DID_NOT_VOTE\\']\\nfiltered_df = filtered_df[filtered_df[\\'position\\'].isin(valid_positions)]\\n\\n# group and count positions by party and vote\\nvote_counts = (filtered_df.groupby([\\'vote_id\\', \\'timestamp\\', \\'party\\', \\'procedure_type\\', \\'position\\']).size().unstack(fill_value=0).reset_index())\\n\\n# rename vote columns for clarity\\nvote_counts = vote_counts.rename(columns={\\'FOR\\': \\'num_for\\', \\'AGAINST\\': \\'num_against\\', \\n                                          \\'ABSTENTION\\': \\'num_abstention\\', \\'DID_NOT_VOTE\\': \\'num_no_votes\\'})\\n\\n# ensure all columns exist\\nfor col in [\\'num_for\\', \\'num_against\\', \\'num_abstention\\', \\'num_no_votes\\']:\\n    if col not in vote_counts.columns:\\n        vote_counts[col] = 0\\n\\n# compute total votes (excluding no votes)\\nvote_counts[\\'total_votes\\'] = (vote_counts[\\'num_for\\'] + vote_counts[\\'num_against\\'] + vote_counts[\\'num_abstention\\'])\\n\\n# get relevant vote cols\\nvote_subset = vote_counts[[\\'num_for\\', \\'num_against\\', \\'num_abstention\\']]\\n\\n# get the column with the highest value per row\\nvote_counts[\\'majority_col\\'] = vote_subset.idxmax(axis=1).str.replace(\\'num_\\', \\'\\').str.upper()\\n\\n# get the max value of votes\\nvote_counts[\\'majority_votes\\'] = vote_subset.max(axis=1)\\n\\n# merge majority info back\\n#df_final = vote_counts.merge(majority_col, on=[\\'vote_id\\', \\'timestamp\\'])\\ndf_final = vote_counts\\n\\n# drop rows where majority_col == \\'DID_NOT_VOTE\\'\\ndf_final = df_final[df_final[\\'majority_col\\'] != \\'DID_NOT_VOTE\\']\\n\\n# compute majority_votes for this party\\ndef get_majority_votes(row):\\n    return row[f\\'num_{row[\"majority_col\"].lower()}\\']\\n\\ndf_final[\\'majority_votes\\'] = df_final.apply(get_majority_votes, axis=1)\\n\\n# compute percent dissenters\\ndf_final[\\'percent_dissent\\'] = 1 - (df_final[\\'majority_votes\\'] / df_final[\\'total_votes\\'])\\n\\n# optional final ordering\\ndf_final = df_final[[\\n    \\'party\\', \\'vote_id\\', \\'procedure_type\\', \\'timestamp\\', \\'num_for\\', \\'num_against\\', \\'num_abstention\\', \\'num_no_votes\\',\\n    \\'total_votes\\', \\'majority_col\\', \\'majority_votes\\', \\'percent_dissent\\']]\\n\\ndf_final'"
      ]
     },
     "execution_count": 5,
     "metadata": {},
     "output_type": "execute_result"
    }
   ],
   "source": [
    "\"\"\"# filter only relevant vote positions\n",
    "valid_positions = ['FOR', 'AGAINST', 'ABSTENTION', 'DID_NOT_VOTE']\n",
    "filtered_df = filtered_df[filtered_df['position'].isin(valid_positions)]\n",
    "\n",
    "# group and count positions by party and vote\n",
    "vote_counts = (filtered_df.groupby(['vote_id', 'timestamp', 'party', 'procedure_type', 'position']).size().unstack(fill_value=0).reset_index())\n",
    "\n",
    "# rename vote columns for clarity\n",
    "vote_counts = vote_counts.rename(columns={'FOR': 'num_for', 'AGAINST': 'num_against', \n",
    "                                          'ABSTENTION': 'num_abstention', 'DID_NOT_VOTE': 'num_no_votes'})\n",
    "\n",
    "# ensure all columns exist\n",
    "for col in ['num_for', 'num_against', 'num_abstention', 'num_no_votes']:\n",
    "    if col not in vote_counts.columns:\n",
    "        vote_counts[col] = 0\n",
    "\n",
    "# compute total votes (excluding no votes)\n",
    "vote_counts['total_votes'] = (vote_counts['num_for'] + vote_counts['num_against'] + vote_counts['num_abstention'])\n",
    "\n",
    "# get relevant vote cols\n",
    "vote_subset = vote_counts[['num_for', 'num_against', 'num_abstention']]\n",
    "\n",
    "# get the column with the highest value per row\n",
    "vote_counts['majority_col'] = vote_subset.idxmax(axis=1).str.replace('num_', '').str.upper()\n",
    "\n",
    "# get the max value of votes\n",
    "vote_counts['majority_votes'] = vote_subset.max(axis=1)\n",
    "\n",
    "# merge majority info back\n",
    "#df_final = vote_counts.merge(majority_col, on=['vote_id', 'timestamp'])\n",
    "df_final = vote_counts\n",
    "\n",
    "# drop rows where majority_col == 'DID_NOT_VOTE'\n",
    "df_final = df_final[df_final['majority_col'] != 'DID_NOT_VOTE']\n",
    "\n",
    "# compute majority_votes for this party\n",
    "def get_majority_votes(row):\n",
    "    return row[f'num_{row[\"majority_col\"].lower()}']\n",
    "\n",
    "df_final['majority_votes'] = df_final.apply(get_majority_votes, axis=1)\n",
    "\n",
    "# compute percent dissenters\n",
    "df_final['percent_dissent'] = 1 - (df_final['majority_votes'] / df_final['total_votes'])\n",
    "\n",
    "# optional final ordering\n",
    "df_final = df_final[[\n",
    "    'party', 'vote_id', 'procedure_type', 'timestamp', 'num_for', 'num_against', 'num_abstention', 'num_no_votes',\n",
    "    'total_votes', 'majority_col', 'majority_votes', 'percent_dissent']]\n",
    "\n",
    "df_final\"\"\""
   ]
  },
  {
   "cell_type": "code",
   "execution_count": 6,
   "id": "f9939a09",
   "metadata": {},
   "outputs": [],
   "source": [
    "# sort by party (primary) then timestamp within that?\n",
    "\n",
    "# do i filter out rows with 0% dissent? or change them to 0.001 or smth? bc i don't know if that affects the func"
   ]
  },
  {
   "cell_type": "code",
   "execution_count": 8,
   "id": "8ef72e21",
   "metadata": {},
   "outputs": [
    {
     "ename": "NameError",
     "evalue": "name 'df_final' is not defined",
     "output_type": "error",
     "traceback": [
      "\u001b[0;31m---------------------------------------------------------------------------\u001b[0m",
      "\u001b[0;31mNameError\u001b[0m                                 Traceback (most recent call last)",
      "Cell \u001b[0;32mIn[8], line 1\u001b[0m\n\u001b[0;32m----> 1\u001b[0m \u001b[38;5;28mset\u001b[39m(df_final[\u001b[38;5;124m'\u001b[39m\u001b[38;5;124mparty\u001b[39m\u001b[38;5;124m'\u001b[39m])\n",
      "\u001b[0;31mNameError\u001b[0m: name 'df_final' is not defined"
     ]
    }
   ],
   "source": [
    "set(df_final['party'])"
   ]
  },
  {
   "cell_type": "code",
   "execution_count": null,
   "id": "4559e72b",
   "metadata": {},
   "outputs": [
    {
     "data": {
      "text/plain": [
       "'sns.set_theme(style=\"darkgrid\")\\nsns.color_palette(\"Set2\")\\n\\ndf_renew = df_final[df_final[\\'party\\'] == \\'Renew\\']\\n\\nplt.figure(figsize=(12, 6))\\nsns.lineplot(data=df_renew, x=\\'timestamp\\', y=\\'percent_dissent\\', label=\\'party\\')\\n\\nplt.xlabel(\\'Date\\')\\nplt.ylabel(\\'Percent Dissenters\\')\\nplt.title(\\'Party Cohesion Over Time\\')\\nplt.legend()\\nplt.show()'"
      ]
     },
     "execution_count": 145,
     "metadata": {},
     "output_type": "execute_result"
    }
   ],
   "source": [
    "\"\"\"sns.set_theme(style=\"darkgrid\")\n",
    "sns.color_palette(\"Set2\")\n",
    "\n",
    "df_renew = df_final[df_final['party'] == 'Renew']\n",
    "\n",
    "plt.figure(figsize=(12, 6))\n",
    "sns.lineplot(data=df_renew, x='timestamp', y='percent_dissent', label='party')\n",
    "\n",
    "plt.xlabel('Date')\n",
    "plt.ylabel('Percent Dissenters')\n",
    "plt.title('Party Cohesion Over Time')\n",
    "plt.legend()\n",
    "plt.show()\"\"\""
   ]
  },
  {
   "cell_type": "code",
   "execution_count": null,
   "id": "5981f0d2",
   "metadata": {},
   "outputs": [],
   "source": [
    "df_final.to_csv('time_series_data_final.csv', index=False) "
   ]
  },
  {
   "cell_type": "code",
   "execution_count": 11,
   "id": "d94377dc",
   "metadata": {},
   "outputs": [
    {
     "data": {
      "text/html": [
       "<div>\n",
       "<style scoped>\n",
       "    .dataframe tbody tr th:only-of-type {\n",
       "        vertical-align: middle;\n",
       "    }\n",
       "\n",
       "    .dataframe tbody tr th {\n",
       "        vertical-align: top;\n",
       "    }\n",
       "\n",
       "    .dataframe thead th {\n",
       "        text-align: right;\n",
       "    }\n",
       "</style>\n",
       "<table border=\"1\" class=\"dataframe\">\n",
       "  <thead>\n",
       "    <tr style=\"text-align: right;\">\n",
       "      <th></th>\n",
       "      <th>party</th>\n",
       "      <th>vote_id</th>\n",
       "      <th>procedure_type</th>\n",
       "      <th>timestamp</th>\n",
       "      <th>num_for</th>\n",
       "      <th>num_against</th>\n",
       "      <th>num_abstention</th>\n",
       "      <th>num_no_votes</th>\n",
       "      <th>total_votes</th>\n",
       "      <th>majority_col</th>\n",
       "      <th>majority_votes</th>\n",
       "      <th>percent_dissent</th>\n",
       "      <th>year</th>\n",
       "      <th>month</th>\n",
       "      <th>weekday</th>\n",
       "      <th>weekofyear</th>\n",
       "    </tr>\n",
       "  </thead>\n",
       "  <tbody>\n",
       "    <tr>\n",
       "      <th>0</th>\n",
       "      <td>ECR</td>\n",
       "      <td>135091</td>\n",
       "      <td>RSO</td>\n",
       "      <td>2021-07-08 15:53:14.480</td>\n",
       "      <td>62</td>\n",
       "      <td>0</td>\n",
       "      <td>0</td>\n",
       "      <td>1</td>\n",
       "      <td>62</td>\n",
       "      <td>FOR</td>\n",
       "      <td>62</td>\n",
       "      <td>0.000000</td>\n",
       "      <td>2021</td>\n",
       "      <td>7</td>\n",
       "      <td>3</td>\n",
       "      <td>27</td>\n",
       "    </tr>\n",
       "    <tr>\n",
       "      <th>1</th>\n",
       "      <td>EPP</td>\n",
       "      <td>135091</td>\n",
       "      <td>RSO</td>\n",
       "      <td>2021-07-08 15:53:14.480</td>\n",
       "      <td>173</td>\n",
       "      <td>0</td>\n",
       "      <td>0</td>\n",
       "      <td>5</td>\n",
       "      <td>173</td>\n",
       "      <td>FOR</td>\n",
       "      <td>173</td>\n",
       "      <td>0.000000</td>\n",
       "      <td>2021</td>\n",
       "      <td>7</td>\n",
       "      <td>3</td>\n",
       "      <td>27</td>\n",
       "    </tr>\n",
       "    <tr>\n",
       "      <th>2</th>\n",
       "      <td>GUE/NGL</td>\n",
       "      <td>135091</td>\n",
       "      <td>RSO</td>\n",
       "      <td>2021-07-08 15:53:14.480</td>\n",
       "      <td>39</td>\n",
       "      <td>0</td>\n",
       "      <td>0</td>\n",
       "      <td>0</td>\n",
       "      <td>39</td>\n",
       "      <td>FOR</td>\n",
       "      <td>39</td>\n",
       "      <td>0.000000</td>\n",
       "      <td>2021</td>\n",
       "      <td>7</td>\n",
       "      <td>3</td>\n",
       "      <td>27</td>\n",
       "    </tr>\n",
       "    <tr>\n",
       "      <th>3</th>\n",
       "      <td>Greens/EFA</td>\n",
       "      <td>135091</td>\n",
       "      <td>RSO</td>\n",
       "      <td>2021-07-08 15:53:14.480</td>\n",
       "      <td>71</td>\n",
       "      <td>0</td>\n",
       "      <td>0</td>\n",
       "      <td>2</td>\n",
       "      <td>71</td>\n",
       "      <td>FOR</td>\n",
       "      <td>71</td>\n",
       "      <td>0.000000</td>\n",
       "      <td>2021</td>\n",
       "      <td>7</td>\n",
       "      <td>3</td>\n",
       "      <td>27</td>\n",
       "    </tr>\n",
       "    <tr>\n",
       "      <th>4</th>\n",
       "      <td>ID</td>\n",
       "      <td>135091</td>\n",
       "      <td>RSO</td>\n",
       "      <td>2021-07-08 15:53:14.480</td>\n",
       "      <td>67</td>\n",
       "      <td>3</td>\n",
       "      <td>0</td>\n",
       "      <td>1</td>\n",
       "      <td>70</td>\n",
       "      <td>FOR</td>\n",
       "      <td>67</td>\n",
       "      <td>0.042857</td>\n",
       "      <td>2021</td>\n",
       "      <td>7</td>\n",
       "      <td>3</td>\n",
       "      <td>27</td>\n",
       "    </tr>\n",
       "  </tbody>\n",
       "</table>\n",
       "</div>"
      ],
      "text/plain": [
       "        party  vote_id procedure_type                timestamp  num_for  \\\n",
       "0         ECR   135091            RSO  2021-07-08 15:53:14.480       62   \n",
       "1         EPP   135091            RSO  2021-07-08 15:53:14.480      173   \n",
       "2     GUE/NGL   135091            RSO  2021-07-08 15:53:14.480       39   \n",
       "3  Greens/EFA   135091            RSO  2021-07-08 15:53:14.480       71   \n",
       "4          ID   135091            RSO  2021-07-08 15:53:14.480       67   \n",
       "\n",
       "   num_against  num_abstention  num_no_votes  total_votes majority_col  \\\n",
       "0            0               0             1           62          FOR   \n",
       "1            0               0             5          173          FOR   \n",
       "2            0               0             0           39          FOR   \n",
       "3            0               0             2           71          FOR   \n",
       "4            3               0             1           70          FOR   \n",
       "\n",
       "   majority_votes  percent_dissent  year  month  weekday  weekofyear  \n",
       "0              62         0.000000  2021      7        3          27  \n",
       "1             173         0.000000  2021      7        3          27  \n",
       "2              39         0.000000  2021      7        3          27  \n",
       "3              71         0.000000  2021      7        3          27  \n",
       "4              67         0.042857  2021      7        3          27  "
      ]
     },
     "execution_count": 11,
     "metadata": {},
     "output_type": "execute_result"
    }
   ],
   "source": [
    "# on the first run, you have the relevant data saved, now you can just load it into a df each time\n",
    "df_final = pd.read_csv('time_series_data_final.csv')\n",
    "df_final = df_final[df_final['party'] != 'Non-attached']\n",
    "df_final.head()"
   ]
  },
  {
   "cell_type": "code",
   "execution_count": 9,
   "id": "4a9a6f88",
   "metadata": {},
   "outputs": [
    {
     "data": {
      "text/html": [
       "<div>\n",
       "<style scoped>\n",
       "    .dataframe tbody tr th:only-of-type {\n",
       "        vertical-align: middle;\n",
       "    }\n",
       "\n",
       "    .dataframe tbody tr th {\n",
       "        vertical-align: top;\n",
       "    }\n",
       "\n",
       "    .dataframe thead th {\n",
       "        text-align: right;\n",
       "    }\n",
       "</style>\n",
       "<table border=\"1\" class=\"dataframe\">\n",
       "  <thead>\n",
       "    <tr style=\"text-align: right;\">\n",
       "      <th></th>\n",
       "      <th>party</th>\n",
       "      <th>procedure_type</th>\n",
       "      <th>percent_dissent</th>\n",
       "    </tr>\n",
       "  </thead>\n",
       "  <tbody>\n",
       "    <tr>\n",
       "      <th>0</th>\n",
       "      <td>ECR</td>\n",
       "      <td>RSO</td>\n",
       "      <td>0.000000</td>\n",
       "    </tr>\n",
       "    <tr>\n",
       "      <th>1</th>\n",
       "      <td>EPP</td>\n",
       "      <td>RSO</td>\n",
       "      <td>0.000000</td>\n",
       "    </tr>\n",
       "    <tr>\n",
       "      <th>2</th>\n",
       "      <td>GUE/NGL</td>\n",
       "      <td>RSO</td>\n",
       "      <td>0.000000</td>\n",
       "    </tr>\n",
       "    <tr>\n",
       "      <th>3</th>\n",
       "      <td>Greens/EFA</td>\n",
       "      <td>RSO</td>\n",
       "      <td>0.000000</td>\n",
       "    </tr>\n",
       "    <tr>\n",
       "      <th>4</th>\n",
       "      <td>ID</td>\n",
       "      <td>RSO</td>\n",
       "      <td>0.042857</td>\n",
       "    </tr>\n",
       "  </tbody>\n",
       "</table>\n",
       "</div>"
      ],
      "text/plain": [
       "        party procedure_type  percent_dissent\n",
       "0         ECR            RSO         0.000000\n",
       "1         EPP            RSO         0.000000\n",
       "2     GUE/NGL            RSO         0.000000\n",
       "3  Greens/EFA            RSO         0.000000\n",
       "4          ID            RSO         0.042857"
      ]
     },
     "execution_count": 9,
     "metadata": {},
     "output_type": "execute_result"
    }
   ],
   "source": [
    "df_logreg = df_final[['party', 'procedure_type', 'percent_dissent']]\n",
    "df_logreg.head()"
   ]
  },
  {
   "cell_type": "code",
   "execution_count": 28,
   "id": "eb9aa97c",
   "metadata": {},
   "outputs": [],
   "source": [
    "df_logreg.to_csv('logistic_regression_data')"
   ]
  },
  {
   "cell_type": "code",
   "execution_count": 14,
   "id": "d27188ac",
   "metadata": {},
   "outputs": [
    {
     "data": {
      "text/plain": [
       "str"
      ]
     },
     "execution_count": 14,
     "metadata": {},
     "output_type": "execute_result"
    }
   ],
   "source": [
    "type(df_final['timestamp'].iloc[0])"
   ]
  },
  {
   "cell_type": "code",
   "execution_count": 12,
   "id": "b8193aec",
   "metadata": {},
   "outputs": [
    {
     "data": {
      "text/plain": [
       "pandas._libs.tslibs.timestamps.Timestamp"
      ]
     },
     "execution_count": 12,
     "metadata": {},
     "output_type": "execute_result"
    }
   ],
   "source": [
    "df_final['timestamp'] = pd.to_datetime(df_final['timestamp'], format='ISO8601')\n",
    "type(df_final['timestamp'].iloc[0])"
   ]
  },
  {
   "cell_type": "code",
   "execution_count": 14,
   "id": "d0f5122b",
   "metadata": {},
   "outputs": [
    {
     "data": {
      "text/html": [
       "<div>\n",
       "<style scoped>\n",
       "    .dataframe tbody tr th:only-of-type {\n",
       "        vertical-align: middle;\n",
       "    }\n",
       "\n",
       "    .dataframe tbody tr th {\n",
       "        vertical-align: top;\n",
       "    }\n",
       "\n",
       "    .dataframe thead th {\n",
       "        text-align: right;\n",
       "    }\n",
       "</style>\n",
       "<table border=\"1\" class=\"dataframe\">\n",
       "  <thead>\n",
       "    <tr style=\"text-align: right;\">\n",
       "      <th></th>\n",
       "      <th>party</th>\n",
       "      <th>vote_id</th>\n",
       "      <th>procedure_type</th>\n",
       "      <th>timestamp</th>\n",
       "      <th>num_for</th>\n",
       "      <th>num_against</th>\n",
       "      <th>num_abstention</th>\n",
       "      <th>num_no_votes</th>\n",
       "      <th>total_votes</th>\n",
       "      <th>majority_col</th>\n",
       "      <th>majority_votes</th>\n",
       "      <th>percent_dissent</th>\n",
       "      <th>year</th>\n",
       "      <th>month</th>\n",
       "      <th>weekday</th>\n",
       "      <th>weekofyear</th>\n",
       "      <th>adjusted_week</th>\n",
       "    </tr>\n",
       "  </thead>\n",
       "  <tbody>\n",
       "    <tr>\n",
       "      <th>0</th>\n",
       "      <td>ECR</td>\n",
       "      <td>135091</td>\n",
       "      <td>RSO</td>\n",
       "      <td>2021-07-08 15:53:14.480</td>\n",
       "      <td>62</td>\n",
       "      <td>0</td>\n",
       "      <td>0</td>\n",
       "      <td>1</td>\n",
       "      <td>62</td>\n",
       "      <td>FOR</td>\n",
       "      <td>62</td>\n",
       "      <td>0.000000</td>\n",
       "      <td>2021</td>\n",
       "      <td>7</td>\n",
       "      <td>3</td>\n",
       "      <td>27</td>\n",
       "      <td>27</td>\n",
       "    </tr>\n",
       "    <tr>\n",
       "      <th>1</th>\n",
       "      <td>EPP</td>\n",
       "      <td>135091</td>\n",
       "      <td>RSO</td>\n",
       "      <td>2021-07-08 15:53:14.480</td>\n",
       "      <td>173</td>\n",
       "      <td>0</td>\n",
       "      <td>0</td>\n",
       "      <td>5</td>\n",
       "      <td>173</td>\n",
       "      <td>FOR</td>\n",
       "      <td>173</td>\n",
       "      <td>0.000000</td>\n",
       "      <td>2021</td>\n",
       "      <td>7</td>\n",
       "      <td>3</td>\n",
       "      <td>27</td>\n",
       "      <td>27</td>\n",
       "    </tr>\n",
       "    <tr>\n",
       "      <th>2</th>\n",
       "      <td>GUE/NGL</td>\n",
       "      <td>135091</td>\n",
       "      <td>RSO</td>\n",
       "      <td>2021-07-08 15:53:14.480</td>\n",
       "      <td>39</td>\n",
       "      <td>0</td>\n",
       "      <td>0</td>\n",
       "      <td>0</td>\n",
       "      <td>39</td>\n",
       "      <td>FOR</td>\n",
       "      <td>39</td>\n",
       "      <td>0.000000</td>\n",
       "      <td>2021</td>\n",
       "      <td>7</td>\n",
       "      <td>3</td>\n",
       "      <td>27</td>\n",
       "      <td>27</td>\n",
       "    </tr>\n",
       "    <tr>\n",
       "      <th>3</th>\n",
       "      <td>Greens/EFA</td>\n",
       "      <td>135091</td>\n",
       "      <td>RSO</td>\n",
       "      <td>2021-07-08 15:53:14.480</td>\n",
       "      <td>71</td>\n",
       "      <td>0</td>\n",
       "      <td>0</td>\n",
       "      <td>2</td>\n",
       "      <td>71</td>\n",
       "      <td>FOR</td>\n",
       "      <td>71</td>\n",
       "      <td>0.000000</td>\n",
       "      <td>2021</td>\n",
       "      <td>7</td>\n",
       "      <td>3</td>\n",
       "      <td>27</td>\n",
       "      <td>27</td>\n",
       "    </tr>\n",
       "    <tr>\n",
       "      <th>4</th>\n",
       "      <td>ID</td>\n",
       "      <td>135091</td>\n",
       "      <td>RSO</td>\n",
       "      <td>2021-07-08 15:53:14.480</td>\n",
       "      <td>67</td>\n",
       "      <td>3</td>\n",
       "      <td>0</td>\n",
       "      <td>1</td>\n",
       "      <td>70</td>\n",
       "      <td>FOR</td>\n",
       "      <td>67</td>\n",
       "      <td>0.042857</td>\n",
       "      <td>2021</td>\n",
       "      <td>7</td>\n",
       "      <td>3</td>\n",
       "      <td>27</td>\n",
       "      <td>27</td>\n",
       "    </tr>\n",
       "  </tbody>\n",
       "</table>\n",
       "</div>"
      ],
      "text/plain": [
       "        party  vote_id procedure_type               timestamp  num_for  \\\n",
       "0         ECR   135091            RSO 2021-07-08 15:53:14.480       62   \n",
       "1         EPP   135091            RSO 2021-07-08 15:53:14.480      173   \n",
       "2     GUE/NGL   135091            RSO 2021-07-08 15:53:14.480       39   \n",
       "3  Greens/EFA   135091            RSO 2021-07-08 15:53:14.480       71   \n",
       "4          ID   135091            RSO 2021-07-08 15:53:14.480       67   \n",
       "\n",
       "   num_against  num_abstention  num_no_votes  total_votes majority_col  \\\n",
       "0            0               0             1           62          FOR   \n",
       "1            0               0             5          173          FOR   \n",
       "2            0               0             0           39          FOR   \n",
       "3            0               0             2           71          FOR   \n",
       "4            3               0             1           70          FOR   \n",
       "\n",
       "   majority_votes  percent_dissent  year  month  weekday  weekofyear  \\\n",
       "0              62         0.000000  2021      7        3          27   \n",
       "1             173         0.000000  2021      7        3          27   \n",
       "2              39         0.000000  2021      7        3          27   \n",
       "3              71         0.000000  2021      7        3          27   \n",
       "4              67         0.042857  2021      7        3          27   \n",
       "\n",
       "   adjusted_week  \n",
       "0             27  \n",
       "1             27  \n",
       "2             27  \n",
       "3             27  \n",
       "4             27  "
      ]
     },
     "execution_count": 14,
     "metadata": {},
     "output_type": "execute_result"
    }
   ],
   "source": [
    "df_time = df_final.copy()\n",
    "\n",
    "# extract datetime features\n",
    "df_time['year'] = df_time['timestamp'].dt.year\n",
    "df_time['month'] = df_time['timestamp'].dt.month\n",
    "df_time['weekday'] = df_time['timestamp'].dt.weekday\n",
    "df_time['weekofyear'] = df_time['timestamp'].dt.isocalendar().week\n",
    "\n",
    "# sort and enumerate unique years\n",
    "sorted_years = sorted(df_time['year'].unique())\n",
    "year_index_map = {year: i for i, year in enumerate(sorted_years)}\n",
    "\n",
    "# adjust weekofyear by year index\n",
    "df_time['adjusted_week'] = df_time.apply(lambda row: row['weekofyear'] + 52 * year_index_map[row['year']], axis=1)\n",
    "\n",
    "df_time.head()"
   ]
  },
  {
   "cell_type": "code",
   "execution_count": 15,
   "id": "aa04acc0",
   "metadata": {},
   "outputs": [],
   "source": [
    "df_time.to_csv('time_db_data')"
   ]
  },
  {
   "cell_type": "code",
   "execution_count": 17,
   "id": "eb3e5013",
   "metadata": {},
   "outputs": [
    {
     "data": {
      "text/plain": [
       "[2021, 2022, 2023, 2024, 2025]"
      ]
     },
     "execution_count": 17,
     "metadata": {},
     "output_type": "execute_result"
    }
   ],
   "source": [
    "list(set(df_time['year']))"
   ]
  },
  {
   "cell_type": "code",
   "execution_count": 18,
   "id": "7ef1bc71",
   "metadata": {},
   "outputs": [
    {
     "data": {
      "text/plain": [
       "15"
      ]
     },
     "execution_count": 18,
     "metadata": {},
     "output_type": "execute_result"
    }
   ],
   "source": [
    "len(list(set(df_time['procedure_type'])))"
   ]
  },
  {
   "cell_type": "code",
   "execution_count": 19,
   "id": "e84bdaff",
   "metadata": {},
   "outputs": [
    {
     "data": {
      "text/html": [
       "<div>\n",
       "<style scoped>\n",
       "    .dataframe tbody tr th:only-of-type {\n",
       "        vertical-align: middle;\n",
       "    }\n",
       "\n",
       "    .dataframe tbody tr th {\n",
       "        vertical-align: top;\n",
       "    }\n",
       "\n",
       "    .dataframe thead th {\n",
       "        text-align: right;\n",
       "    }\n",
       "</style>\n",
       "<table border=\"1\" class=\"dataframe\">\n",
       "  <thead>\n",
       "    <tr style=\"text-align: right;\">\n",
       "      <th></th>\n",
       "      <th>party</th>\n",
       "      <th>vote_id</th>\n",
       "      <th>procedure_type</th>\n",
       "      <th>timestamp</th>\n",
       "      <th>num_for</th>\n",
       "      <th>num_against</th>\n",
       "      <th>num_abstention</th>\n",
       "      <th>num_no_votes</th>\n",
       "      <th>total_votes</th>\n",
       "      <th>majority_col</th>\n",
       "      <th>majority_votes</th>\n",
       "      <th>percent_dissent</th>\n",
       "      <th>year</th>\n",
       "      <th>month</th>\n",
       "      <th>weekday</th>\n",
       "      <th>weekofyear</th>\n",
       "      <th>adjusted_week</th>\n",
       "    </tr>\n",
       "  </thead>\n",
       "  <tbody>\n",
       "    <tr>\n",
       "      <th>0</th>\n",
       "      <td>ECR</td>\n",
       "      <td>135091</td>\n",
       "      <td>RSO</td>\n",
       "      <td>2021-07-08 15:53:14.480</td>\n",
       "      <td>62</td>\n",
       "      <td>0</td>\n",
       "      <td>0</td>\n",
       "      <td>1</td>\n",
       "      <td>62</td>\n",
       "      <td>FOR</td>\n",
       "      <td>62</td>\n",
       "      <td>0.000000</td>\n",
       "      <td>2021</td>\n",
       "      <td>7</td>\n",
       "      <td>3</td>\n",
       "      <td>27</td>\n",
       "      <td>27</td>\n",
       "    </tr>\n",
       "    <tr>\n",
       "      <th>7</th>\n",
       "      <td>ECR</td>\n",
       "      <td>135092</td>\n",
       "      <td>RSP</td>\n",
       "      <td>2021-07-08 15:53:14.480</td>\n",
       "      <td>1</td>\n",
       "      <td>0</td>\n",
       "      <td>0</td>\n",
       "      <td>0</td>\n",
       "      <td>1</td>\n",
       "      <td>FOR</td>\n",
       "      <td>1</td>\n",
       "      <td>0.000000</td>\n",
       "      <td>2021</td>\n",
       "      <td>7</td>\n",
       "      <td>3</td>\n",
       "      <td>27</td>\n",
       "      <td>27</td>\n",
       "    </tr>\n",
       "    <tr>\n",
       "      <th>14</th>\n",
       "      <td>ECR</td>\n",
       "      <td>135148</td>\n",
       "      <td>COD</td>\n",
       "      <td>2021-09-13 21:08:45.000</td>\n",
       "      <td>38</td>\n",
       "      <td>23</td>\n",
       "      <td>1</td>\n",
       "      <td>1</td>\n",
       "      <td>62</td>\n",
       "      <td>FOR</td>\n",
       "      <td>38</td>\n",
       "      <td>0.387097</td>\n",
       "      <td>2021</td>\n",
       "      <td>9</td>\n",
       "      <td>0</td>\n",
       "      <td>37</td>\n",
       "      <td>37</td>\n",
       "    </tr>\n",
       "    <tr>\n",
       "      <th>21</th>\n",
       "      <td>ECR</td>\n",
       "      <td>135150</td>\n",
       "      <td>COD</td>\n",
       "      <td>2021-09-15 15:22:30.000</td>\n",
       "      <td>59</td>\n",
       "      <td>4</td>\n",
       "      <td>0</td>\n",
       "      <td>0</td>\n",
       "      <td>63</td>\n",
       "      <td>FOR</td>\n",
       "      <td>59</td>\n",
       "      <td>0.063492</td>\n",
       "      <td>2021</td>\n",
       "      <td>9</td>\n",
       "      <td>2</td>\n",
       "      <td>37</td>\n",
       "      <td>37</td>\n",
       "    </tr>\n",
       "    <tr>\n",
       "      <th>28</th>\n",
       "      <td>ECR</td>\n",
       "      <td>135154</td>\n",
       "      <td>COD</td>\n",
       "      <td>2021-09-15 15:22:30.000</td>\n",
       "      <td>35</td>\n",
       "      <td>11</td>\n",
       "      <td>17</td>\n",
       "      <td>0</td>\n",
       "      <td>63</td>\n",
       "      <td>FOR</td>\n",
       "      <td>35</td>\n",
       "      <td>0.444444</td>\n",
       "      <td>2021</td>\n",
       "      <td>9</td>\n",
       "      <td>2</td>\n",
       "      <td>37</td>\n",
       "      <td>37</td>\n",
       "    </tr>\n",
       "  </tbody>\n",
       "</table>\n",
       "</div>"
      ],
      "text/plain": [
       "   party  vote_id procedure_type               timestamp  num_for  \\\n",
       "0    ECR   135091            RSO 2021-07-08 15:53:14.480       62   \n",
       "7    ECR   135092            RSP 2021-07-08 15:53:14.480        1   \n",
       "14   ECR   135148            COD 2021-09-13 21:08:45.000       38   \n",
       "21   ECR   135150            COD 2021-09-15 15:22:30.000       59   \n",
       "28   ECR   135154            COD 2021-09-15 15:22:30.000       35   \n",
       "\n",
       "    num_against  num_abstention  num_no_votes  total_votes majority_col  \\\n",
       "0             0               0             1           62          FOR   \n",
       "7             0               0             0            1          FOR   \n",
       "14           23               1             1           62          FOR   \n",
       "21            4               0             0           63          FOR   \n",
       "28           11              17             0           63          FOR   \n",
       "\n",
       "    majority_votes  percent_dissent  year  month  weekday  weekofyear  \\\n",
       "0               62         0.000000  2021      7        3          27   \n",
       "7                1         0.000000  2021      7        3          27   \n",
       "14              38         0.387097  2021      9        0          37   \n",
       "21              59         0.063492  2021      9        2          37   \n",
       "28              35         0.444444  2021      9        2          37   \n",
       "\n",
       "    adjusted_week  \n",
       "0              27  \n",
       "7              27  \n",
       "14             37  \n",
       "21             37  \n",
       "28             37  "
      ]
     },
     "execution_count": 19,
     "metadata": {},
     "output_type": "execute_result"
    }
   ],
   "source": [
    "df_time[df_time['party'] == 'ECR'].head()"
   ]
  },
  {
   "cell_type": "code",
   "execution_count": 20,
   "id": "c0049edb",
   "metadata": {},
   "outputs": [
    {
     "data": {
      "text/plain": [
       "(10074, 17)"
      ]
     },
     "execution_count": 20,
     "metadata": {},
     "output_type": "execute_result"
    }
   ],
   "source": [
    "df_time.shape"
   ]
  },
  {
   "cell_type": "code",
   "execution_count": 21,
   "id": "41e38b4a",
   "metadata": {},
   "outputs": [
    {
     "data": {
      "text/plain": [
       "1417"
      ]
     },
     "execution_count": 21,
     "metadata": {},
     "output_type": "execute_result"
    }
   ],
   "source": [
    "len(set(df_time['vote_id']))\n",
    "# cross validate model\n",
    "# add interaction effects\n",
    "# cross validate\n",
    "\n",
    "# potential: look into moving averages time series model using package"
   ]
  },
  {
   "cell_type": "code",
   "execution_count": null,
   "id": "442ffe02",
   "metadata": {},
   "outputs": [],
   "source": [
    "\"\"\"df_no_zeros = df_time[df_time['percent_dissent'] != 0]\n",
    "df_no_zeros\"\"\""
   ]
  },
  {
   "cell_type": "code",
   "execution_count": 22,
   "id": "f2dacc96",
   "metadata": {},
   "outputs": [],
   "source": [
    "def logistic_regression(X, y, w, alpha=1, max_iter=None):\n",
    "    runalg = True\n",
    "    i = 0\n",
    "    iter = 0\n",
    "    \n",
    "    while runalg:\n",
    "        x = X[i, :]\n",
    "        yhat = 1 / (1 + np.exp(-np.dot(x, w)))\n",
    "\n",
    "        w = w - alpha * (yhat - y[i]) * x\n",
    "        i += 1\n",
    "\n",
    "        if i == len(y):\n",
    "            i = 0\n",
    "            iter += 1\n",
    "\n",
    "        if max_iter is not None and iter == max_iter:\n",
    "            runalg = False\n",
    "            print(f\"Algorithm reached max_iter, final w = {w}\")\n",
    "            print(f\"Total number of iterations = {iter}\")\n",
    "    \n",
    "    return w\n",
    "\n",
    "X_np = sm.add_constant(pd.get_dummies(df_time[['party', 'procedure_type']], drop_first=True)).astype(float).values\n",
    "\n",
    "#y_np = df_time['percent_dissent'].values\n",
    "# this one prevents us from having values of percent dissent that are exactly 0 or 1\n",
    "y_np = df_time['percent_dissent'].clip(lower=0.00001, upper=0.999).values\n",
    "\n",
    "#w = np.random.randn(X_np.shape[1])\n",
    "#w_final = logistic_regression(X_np, y_np, w, alpha=0.007, max_iter=3000)\n",
    "\n",
    "#y_pred = 1 / (1 + np.exp(-np.dot(X_np, w_final)))\n",
    "#_pred_percent = y_pred * 100\n",
    "#y_true_percent = y_np * 100\n",
    "\n",
    "#r2 = r2_score(y_true_percent, y_pred_percent)\n",
    "#print(f\"R2 score: {r2}\")"
   ]
  },
  {
   "cell_type": "code",
   "execution_count": 23,
   "id": "e09862da",
   "metadata": {},
   "outputs": [
    {
     "name": "stdout",
     "output_type": "stream",
     "text": [
      "Algorithm reached max_iter, final w = [-2.07829316 -1.22759572 -0.69195234 -0.03461627 -2.09729848  0.51337231\n",
      "  0.0846254  -1.34616326 -1.94762885  0.84483474  0.35575192  1.09197896\n",
      "  0.36326028  0.48905638  0.72452503  0.20695639  0.75508881  0.73206426\n",
      "  0.35972769  0.12725121  1.11482283  0.0368592   0.73963145]\n",
      "Total number of iterations = 3000\n",
      "R2 score: 0.33462876048646395\n"
     ]
    }
   ],
   "source": [
    "# train test split\n",
    "X_train, X_test, y_train, y_test = train_test_split(X_np, y_np, test_size=0.2, random_state=42)\n",
    "w_init = np.random.randn(X_train.shape[1])\n",
    "w_trained = logistic_regression(X_train, y_train, w_init, alpha=0.007, max_iter=3000)\n",
    "y_test_pred = 1 / (1 + np.exp(-np.dot(X_test, w_trained)))\n",
    "y_pred_percent = y_test_pred * 100\n",
    "y_true_percent = y_test * 100\n",
    "\n",
    "r2 = r2_score(y_true_percent, y_pred_percent)\n",
    "print(f\"R2 score: {r2}\")"
   ]
  },
  {
   "cell_type": "code",
   "execution_count": null,
   "id": "2ba74bd9",
   "metadata": {},
   "outputs": [
    {
     "name": "stdout",
     "output_type": "stream",
     "text": [
      "2015 10074\n",
      "2.4446087147235094 1e-05\n"
     ]
    },
    {
     "ename": "ValueError",
     "evalue": "operands could not be broadcast together with shapes (2015,) (10074,) ",
     "output_type": "error",
     "traceback": [
      "\u001b[0;31m---------------------------------------------------------------------------\u001b[0m",
      "\u001b[0;31mValueError\u001b[0m                                Traceback (most recent call last)",
      "Cell \u001b[0;32mIn[24], line 3\u001b[0m\n\u001b[1;32m      1\u001b[0m \u001b[38;5;28mprint\u001b[39m(\u001b[38;5;28mlen\u001b[39m(y_pred_percent), \u001b[38;5;28mlen\u001b[39m(y_np))\n\u001b[1;32m      2\u001b[0m \u001b[38;5;28mprint\u001b[39m(y_pred_percent[\u001b[38;5;241m0\u001b[39m], y_np[\u001b[38;5;241m0\u001b[39m])\n\u001b[0;32m----> 3\u001b[0m resids \u001b[38;5;241m=\u001b[39m y_pred_percent \u001b[38;5;241m-\u001b[39m (y_np \u001b[38;5;241m*\u001b[39m \u001b[38;5;241m100\u001b[39m)\n\u001b[1;32m      4\u001b[0m resids\u001b[38;5;241m.\u001b[39mmean()\n",
      "\u001b[0;31mValueError\u001b[0m: operands could not be broadcast together with shapes (2015,) (10074,) "
     ]
    }
   ],
   "source": [
    "\"\"\"print(len(y_pred_percent), len(y_np))\n",
    "print(y_pred_percent[0], y_np[0])\n",
    "resids = y_pred_percent - (y_np * 100)\n",
    "resids.mean()\"\"\""
   ]
  },
  {
   "cell_type": "code",
   "execution_count": null,
   "id": "2edd2f3c",
   "metadata": {},
   "outputs": [
    {
     "name": "stdout",
     "output_type": "stream",
     "text": [
      "{128, 132, 141, 144, 146, 149, 151, 154, 27, 159, 162, 37, 165, 167, 40, 42, 171, 45, 173, 47, 50, 55, 185, 59, 61, 62, 64, 66, 194, 197, 70, 199, 72, 202, 75, 204, 77, 79, 207, 212, 215, 89, 219, 92, 94, 222, 97, 99, 227, 229, 102, 107, 109, 111, 115, 117, 120, 123, 126}\n"
     ]
    },
    {
     "data": {
      "text/html": [
       "<div>\n",
       "<style scoped>\n",
       "    .dataframe tbody tr th:only-of-type {\n",
       "        vertical-align: middle;\n",
       "    }\n",
       "\n",
       "    .dataframe tbody tr th {\n",
       "        vertical-align: top;\n",
       "    }\n",
       "\n",
       "    .dataframe thead th {\n",
       "        text-align: right;\n",
       "    }\n",
       "</style>\n",
       "<table border=\"1\" class=\"dataframe\">\n",
       "  <thead>\n",
       "    <tr style=\"text-align: right;\">\n",
       "      <th></th>\n",
       "      <th>adjusted_week</th>\n",
       "      <th>party</th>\n",
       "      <th>percent_dissent</th>\n",
       "    </tr>\n",
       "  </thead>\n",
       "  <tbody>\n",
       "    <tr>\n",
       "      <th>0</th>\n",
       "      <td>27</td>\n",
       "      <td>ID</td>\n",
       "      <td>0.042857</td>\n",
       "    </tr>\n",
       "    <tr>\n",
       "      <th>1</th>\n",
       "      <td>37</td>\n",
       "      <td>ECR</td>\n",
       "      <td>0.193555</td>\n",
       "    </tr>\n",
       "    <tr>\n",
       "      <th>2</th>\n",
       "      <td>37</td>\n",
       "      <td>EPP</td>\n",
       "      <td>0.121920</td>\n",
       "    </tr>\n",
       "    <tr>\n",
       "      <th>3</th>\n",
       "      <td>37</td>\n",
       "      <td>GUE/NGL</td>\n",
       "      <td>0.196725</td>\n",
       "    </tr>\n",
       "    <tr>\n",
       "      <th>4</th>\n",
       "      <td>37</td>\n",
       "      <td>Greens/EFA</td>\n",
       "      <td>0.043188</td>\n",
       "    </tr>\n",
       "    <tr>\n",
       "      <th>5</th>\n",
       "      <td>37</td>\n",
       "      <td>ID</td>\n",
       "      <td>0.234017</td>\n",
       "    </tr>\n",
       "    <tr>\n",
       "      <th>6</th>\n",
       "      <td>37</td>\n",
       "      <td>Renew</td>\n",
       "      <td>0.071429</td>\n",
       "    </tr>\n",
       "    <tr>\n",
       "      <th>7</th>\n",
       "      <td>37</td>\n",
       "      <td>S&amp;D</td>\n",
       "      <td>0.090797</td>\n",
       "    </tr>\n",
       "    <tr>\n",
       "      <th>8</th>\n",
       "      <td>40</td>\n",
       "      <td>ECR</td>\n",
       "      <td>0.156036</td>\n",
       "    </tr>\n",
       "    <tr>\n",
       "      <th>9</th>\n",
       "      <td>40</td>\n",
       "      <td>EPP</td>\n",
       "      <td>0.109638</td>\n",
       "    </tr>\n",
       "  </tbody>\n",
       "</table>\n",
       "</div>"
      ],
      "text/plain": [
       "   adjusted_week       party  percent_dissent\n",
       "0             27          ID         0.042857\n",
       "1             37         ECR         0.193555\n",
       "2             37         EPP         0.121920\n",
       "3             37     GUE/NGL         0.196725\n",
       "4             37  Greens/EFA         0.043188\n",
       "5             37          ID         0.234017\n",
       "6             37       Renew         0.071429\n",
       "7             37         S&D         0.090797\n",
       "8             40         ECR         0.156036\n",
       "9             40         EPP         0.109638"
      ]
     },
     "execution_count": 175,
     "metadata": {},
     "output_type": "execute_result"
    }
   ],
   "source": [
    "print(set(df_no_zeros['adjusted_week']))\n",
    "df_groupbyweek = df_no_zeros.groupby(['adjusted_week', 'party'])['percent_dissent'].mean().reset_index()\n",
    "df_groupbyweek.head(10)"
   ]
  },
  {
   "cell_type": "code",
   "execution_count": null,
   "id": "901b2df4",
   "metadata": {},
   "outputs": [
    {
     "data": {
      "image/png": "[encoded data removed]",
      "text/plain": [
       "<Figure size 1200x600 with 1 Axes>"
      ]
     },
     "metadata": {},
     "output_type": "display_data"
    }
   ],
   "source": [
    "plt.figure(figsize=(12, 6))\n",
    "for party in df_time['party'].unique():\n",
    "    party_df = df_time[df_time['party'] == party]\n",
    "    sns.lineplot(data=party_df, x='adjusted_week', y='percent_dissent', label=party, errorbar=None)\n",
    "\n",
    "plt.xlabel('Week Index')\n",
    "plt.ylabel('Percent Dissenters')\n",
    "plt.title('Party Cohesion Over Time')\n",
    "plt.legend()\n",
    "plt.show()"
   ]
  },
  {
   "cell_type": "code",
   "execution_count": null,
   "id": "78de1412",
   "metadata": {},
   "outputs": [
    {
     "data": {
      "text/html": [
       "<div>\n",
       "<style scoped>\n",
       "    .dataframe tbody tr th:only-of-type {\n",
       "        vertical-align: middle;\n",
       "    }\n",
       "\n",
       "    .dataframe tbody tr th {\n",
       "        vertical-align: top;\n",
       "    }\n",
       "\n",
       "    .dataframe thead th {\n",
       "        text-align: right;\n",
       "    }\n",
       "</style>\n",
       "<table border=\"1\" class=\"dataframe\">\n",
       "  <thead>\n",
       "    <tr style=\"text-align: right;\">\n",
       "      <th></th>\n",
       "      <th>party</th>\n",
       "      <th>vote_id</th>\n",
       "      <th>procedure_type</th>\n",
       "      <th>timestamp</th>\n",
       "      <th>num_for</th>\n",
       "      <th>num_against</th>\n",
       "      <th>num_abstention</th>\n",
       "      <th>num_no_votes</th>\n",
       "      <th>total_votes</th>\n",
       "      <th>majority_col</th>\n",
       "      <th>majority_votes</th>\n",
       "      <th>percent_dissent</th>\n",
       "      <th>year</th>\n",
       "      <th>month</th>\n",
       "      <th>weekday</th>\n",
       "      <th>weekofyear</th>\n",
       "      <th>adjusted_week</th>\n",
       "    </tr>\n",
       "  </thead>\n",
       "  <tbody>\n",
       "    <tr>\n",
       "      <th>106</th>\n",
       "      <td>EPP</td>\n",
       "      <td>135749</td>\n",
       "      <td>RSP</td>\n",
       "      <td>2021-09-16 15:48:43</td>\n",
       "      <td>53</td>\n",
       "      <td>55</td>\n",
       "      <td>66</td>\n",
       "      <td>5</td>\n",
       "      <td>174</td>\n",
       "      <td>ABSTENTION</td>\n",
       "      <td>66</td>\n",
       "      <td>0.620690</td>\n",
       "      <td>2021</td>\n",
       "      <td>9</td>\n",
       "      <td>3</td>\n",
       "      <td>37</td>\n",
       "      <td>37</td>\n",
       "    </tr>\n",
       "    <tr>\n",
       "      <th>242</th>\n",
       "      <td>ID</td>\n",
       "      <td>136004</td>\n",
       "      <td>INI</td>\n",
       "      <td>2021-10-06 22:49:29</td>\n",
       "      <td>27</td>\n",
       "      <td>25</td>\n",
       "      <td>18</td>\n",
       "      <td>0</td>\n",
       "      <td>70</td>\n",
       "      <td>FOR</td>\n",
       "      <td>27</td>\n",
       "      <td>0.614286</td>\n",
       "      <td>2021</td>\n",
       "      <td>10</td>\n",
       "      <td>2</td>\n",
       "      <td>40</td>\n",
       "      <td>40</td>\n",
       "    </tr>\n",
       "    <tr>\n",
       "      <th>417</th>\n",
       "      <td>ID</td>\n",
       "      <td>136905</td>\n",
       "      <td>RSP</td>\n",
       "      <td>2021-10-21 11:52:25</td>\n",
       "      <td>24</td>\n",
       "      <td>22</td>\n",
       "      <td>24</td>\n",
       "      <td>0</td>\n",
       "      <td>70</td>\n",
       "      <td>FOR</td>\n",
       "      <td>24</td>\n",
       "      <td>0.657143</td>\n",
       "      <td>2021</td>\n",
       "      <td>10</td>\n",
       "      <td>3</td>\n",
       "      <td>42</td>\n",
       "      <td>42</td>\n",
       "    </tr>\n",
       "    <tr>\n",
       "      <th>578</th>\n",
       "      <td>ID</td>\n",
       "      <td>137566</td>\n",
       "      <td>RSP</td>\n",
       "      <td>2021-11-25 15:36:34</td>\n",
       "      <td>24</td>\n",
       "      <td>23</td>\n",
       "      <td>20</td>\n",
       "      <td>3</td>\n",
       "      <td>67</td>\n",
       "      <td>FOR</td>\n",
       "      <td>24</td>\n",
       "      <td>0.641791</td>\n",
       "      <td>2021</td>\n",
       "      <td>11</td>\n",
       "      <td>3</td>\n",
       "      <td>47</td>\n",
       "      <td>47</td>\n",
       "    </tr>\n",
       "    <tr>\n",
       "      <th>795</th>\n",
       "      <td>ID</td>\n",
       "      <td>138178</td>\n",
       "      <td>RSP</td>\n",
       "      <td>2021-12-16 15:32:12</td>\n",
       "      <td>27</td>\n",
       "      <td>26</td>\n",
       "      <td>15</td>\n",
       "      <td>2</td>\n",
       "      <td>68</td>\n",
       "      <td>FOR</td>\n",
       "      <td>27</td>\n",
       "      <td>0.602941</td>\n",
       "      <td>2021</td>\n",
       "      <td>12</td>\n",
       "      <td>3</td>\n",
       "      <td>50</td>\n",
       "      <td>50</td>\n",
       "    </tr>\n",
       "  </tbody>\n",
       "</table>\n",
       "</div>"
      ],
      "text/plain": [
       "    party  vote_id procedure_type           timestamp  num_for  num_against  \\\n",
       "106   EPP   135749            RSP 2021-09-16 15:48:43       53           55   \n",
       "242    ID   136004            INI 2021-10-06 22:49:29       27           25   \n",
       "417    ID   136905            RSP 2021-10-21 11:52:25       24           22   \n",
       "578    ID   137566            RSP 2021-11-25 15:36:34       24           23   \n",
       "795    ID   138178            RSP 2021-12-16 15:32:12       27           26   \n",
       "\n",
       "     num_abstention  num_no_votes  total_votes majority_col  majority_votes  \\\n",
       "106              66             5          174   ABSTENTION              66   \n",
       "242              18             0           70          FOR              27   \n",
       "417              24             0           70          FOR              24   \n",
       "578              20             3           67          FOR              24   \n",
       "795              15             2           68          FOR              27   \n",
       "\n",
       "     percent_dissent  year  month  weekday  weekofyear  adjusted_week  \n",
       "106         0.620690  2021      9        3          37             37  \n",
       "242         0.614286  2021     10        2          40             40  \n",
       "417         0.657143  2021     10        3          42             42  \n",
       "578         0.641791  2021     11        3          47             47  \n",
       "795         0.602941  2021     12        3          50             50  "
      ]
     },
     "execution_count": 159,
     "metadata": {},
     "output_type": "execute_result"
    }
   ],
   "source": [
    "df_time[df_time['percent_dissent'] > 0.6].head()"
   ]
  },
  {
   "cell_type": "code",
   "execution_count": 7,
   "id": "6aa1dc5d",
   "metadata": {},
   "outputs": [
    {
     "data": {
      "text/plain": [
       "{'ACI',\n",
       " 'APP',\n",
       " 'BUD',\n",
       " 'BUI',\n",
       " 'CNS',\n",
       " 'COD',\n",
       " 'DEA',\n",
       " 'DEC',\n",
       " 'INI',\n",
       " 'INL',\n",
       " 'NLE',\n",
       " 'REG',\n",
       " 'RPS',\n",
       " 'RSO',\n",
       " 'RSP'}"
      ]
     },
     "execution_count": 7,
     "metadata": {},
     "output_type": "execute_result"
    }
   ],
   "source": [
    "set(df_logreg['procedure_type'])"
   ]
  },
  {
   "cell_type": "code",
   "execution_count": null,
   "id": "3051159b",
   "metadata": {},
   "outputs": [
    {
     "data": {
      "text/plain": [
       "array([3.35039950e+00, 1.01426743e-08, 6.23269332e+00, ...,\n",
       "       9.99999995e+01, 8.82432455e-14, 2.15735838e-11])"
      ]
     },
     "execution_count": 161,
     "metadata": {},
     "output_type": "execute_result"
    }
   ],
   "source": [
    "y_pred_percent"
   ]
  },
  {
   "cell_type": "code",
   "execution_count": null,
   "id": "b6452fd3",
   "metadata": {},
   "outputs": [],
   "source": [
    "# i could average all the dissents for each 'cluster' (we could group votes that happen in the same week and see how that goes)\n",
    "# and use that as a datapoint, then the features would be clutser index"
   ]
  }
 ],
 "metadata": {
  "kernelspec": {
   "display_name": "base",
   "language": "python",
   "name": "python3"
  },
  "language_info": {
   "codemirror_mode": {
    "name": "ipython",
    "version": 3
   },
   "file_extension": ".py",
   "mimetype": "text/x-python",
   "name": "python",
   "nbconvert_exporter": "python",
   "pygments_lexer": "ipython3",
   "version": "3.12.4"
  }
 },
 "nbformat": 4,
 "nbformat_minor": 5
}
